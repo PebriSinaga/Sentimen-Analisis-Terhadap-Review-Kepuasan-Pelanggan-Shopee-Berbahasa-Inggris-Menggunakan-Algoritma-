{
 "cells": [
  {
   "cell_type": "markdown",
   "metadata": {},
   "source": [
    "### Evaluasi Model"
   ]
  },
  {
   "cell_type": "code",
   "execution_count": null,
   "metadata": {},
   "outputs": [],
   "source": [
    "evaluasi_model_sentimen = pd.DataFrame(performance_model)\n",
    "evaluasi_model_sentimen.columns = ['precision','recall','f1-score']\n",
    "\n",
    "evaluasi_model_sentimen"
   ]
  },
  {
   "cell_type": "code",
   "execution_count": null,
   "metadata": {},
   "outputs": [],
   "source": [
    "sumprecision = evaluasi_model_sentimen['precision'].astype(float)\n",
    "avgprecision = sum(sumprecision)/len(sumprecision)\n",
    "\n",
    "sumrecall = evaluasi_model_sentimen['recall'].astype(float)\n",
    "avgrecall = sum(sumrecall)/len(sumrecall)\n",
    "\n",
    "sumfscore = evaluasi_model_sentimen['f1-score'].astype(float)\n",
    "avgfscore = sum(sumfscore)/len(sumfscore)\n",
    "\n",
    "print ('precision', 'recall', 'fscore' )\n",
    "print (avgprecision, avgrecall, avgfscore )"
   ]
  },
  {
   "cell_type": "markdown",
   "metadata": {},
   "source": [
    "F-score"
   ]
  },
  {
   "cell_type": "code",
   "execution_count": null,
   "metadata": {},
   "outputs": [],
   "source": [
    "import matplotlib.pyplot as plt\n",
    "plt.figure(figsize=(10,3))\n",
    "plt.plot( evaluasi_model_sentimen['f1-score'], marker = \"o\" )\n",
    "plt.title(\"fscore\")\n",
    "plt.xlabel(\"kfold\")\n",
    "plt.ylabel(\"nilai\")\n",
    "\n",
    "\n",
    "plt.show()"
   ]
  },
  {
   "cell_type": "markdown",
   "metadata": {},
   "source": [
    "Recall"
   ]
  },
  {
   "cell_type": "code",
   "execution_count": null,
   "metadata": {},
   "outputs": [],
   "source": [
    "import matplotlib.pyplot as plt\n",
    "plt.figure(figsize=(10,3))\n",
    "plt.plot( evaluasi_model_sentimen.recall, marker = \"o\" )\n",
    "\n",
    "plt.title(\"recall\")\n",
    "plt.xlabel(\"kfold\")\n",
    "plt.ylabel(\"nilai\")\n",
    "\n",
    "plt.show()"
   ]
  },
  {
   "cell_type": "markdown",
   "metadata": {},
   "source": [
    "Precision"
   ]
  },
  {
   "cell_type": "code",
   "execution_count": null,
   "metadata": {},
   "outputs": [],
   "source": [
    "import matplotlib.pyplot as plt\n",
    "plt.figure(figsize=(10,3))\n",
    "plt.plot( evaluasi_model_sentimen.precision, marker = \"o\" )\n",
    "\n",
    "plt.title(\"precision\")\n",
    "plt.xlabel(\"kfold\")\n",
    "plt.ylabel(\"nilai\")\n",
    "\n",
    "plt.show()"
   ]
  }
 ],
 "metadata": {
  "kernelspec": {
   "display_name": "Python 3",
   "language": "python",
   "name": "python3"
  },
  "language_info": {
   "codemirror_mode": {
    "name": "ipython",
    "version": 3
   },
   "file_extension": ".py",
   "mimetype": "text/x-python",
   "name": "python",
   "nbconvert_exporter": "python",
   "pygments_lexer": "ipython3",
   "version": "3.6.5"
  }
 },
 "nbformat": 4,
 "nbformat_minor": 2
}
